{
  "nbformat": 4,
  "nbformat_minor": 0,
  "metadata": {
    "colab": {
      "name": "spam message classification.ipynb",
      "provenance": [],
      "mount_file_id": "1z3RAQoUO_kAYss0VzVE8CgryGxhHThpJ",
      "authorship_tag": "ABX9TyM98uWQ+7yTKc6GROdS/Huo",
      "include_colab_link": true
    },
    "kernelspec": {
      "name": "python3",
      "display_name": "Python 3"
    },
    "language_info": {
      "name": "python"
    }
  },
  "cells": [
    {
      "cell_type": "markdown",
      "metadata": {
        "id": "view-in-github",
        "colab_type": "text"
      },
      "source": [
        "<a href=\"https://colab.research.google.com/github/VivekMuraleedharanGit/Spam-Classifier/blob/main/spam_message_classification.ipynb\" target=\"_parent\"><img src=\"https://colab.research.google.com/assets/colab-badge.svg\" alt=\"Open In Colab\"/></a>"
      ]
    },
    {
      "cell_type": "code",
      "metadata": {
        "id": "J2LzCFNNhn74"
      },
      "source": [
        "import pandas as pd\n",
        "import numpy as np\n"
      ],
      "execution_count": null,
      "outputs": []
    },
    {
      "cell_type": "code",
      "metadata": {
        "colab": {
          "base_uri": "https://localhost:8080/",
          "height": 204
        },
        "id": "W84imm7rh176",
        "outputId": "cb6c29ff-b855-47e8-e0c8-a9c14eee6dd0"
      },
      "source": [
        "data= pd.read_csv('/content/drive/MyDrive/Data Science /Data Science notebooks/SMSSpamCollection',sep='\\t',header=None,names=['Label','SMS'])\n",
        "data.head()"
      ],
      "execution_count": 36,
      "outputs": [
        {
          "output_type": "execute_result",
          "data": {
            "text/html": [
              "<div>\n",
              "<style scoped>\n",
              "    .dataframe tbody tr th:only-of-type {\n",
              "        vertical-align: middle;\n",
              "    }\n",
              "\n",
              "    .dataframe tbody tr th {\n",
              "        vertical-align: top;\n",
              "    }\n",
              "\n",
              "    .dataframe thead th {\n",
              "        text-align: right;\n",
              "    }\n",
              "</style>\n",
              "<table border=\"1\" class=\"dataframe\">\n",
              "  <thead>\n",
              "    <tr style=\"text-align: right;\">\n",
              "      <th></th>\n",
              "      <th>Label</th>\n",
              "      <th>SMS</th>\n",
              "    </tr>\n",
              "  </thead>\n",
              "  <tbody>\n",
              "    <tr>\n",
              "      <th>0</th>\n",
              "      <td>ham</td>\n",
              "      <td>Go until jurong point, crazy.. Available only ...</td>\n",
              "    </tr>\n",
              "    <tr>\n",
              "      <th>1</th>\n",
              "      <td>ham</td>\n",
              "      <td>Ok lar... Joking wif u oni...</td>\n",
              "    </tr>\n",
              "    <tr>\n",
              "      <th>2</th>\n",
              "      <td>spam</td>\n",
              "      <td>Free entry in 2 a wkly comp to win FA Cup fina...</td>\n",
              "    </tr>\n",
              "    <tr>\n",
              "      <th>3</th>\n",
              "      <td>ham</td>\n",
              "      <td>U dun say so early hor... U c already then say...</td>\n",
              "    </tr>\n",
              "    <tr>\n",
              "      <th>4</th>\n",
              "      <td>ham</td>\n",
              "      <td>Nah I don't think he goes to usf, he lives aro...</td>\n",
              "    </tr>\n",
              "  </tbody>\n",
              "</table>\n",
              "</div>"
            ],
            "text/plain": [
              "  Label                                                SMS\n",
              "0   ham  Go until jurong point, crazy.. Available only ...\n",
              "1   ham                      Ok lar... Joking wif u oni...\n",
              "2  spam  Free entry in 2 a wkly comp to win FA Cup fina...\n",
              "3   ham  U dun say so early hor... U c already then say...\n",
              "4   ham  Nah I don't think he goes to usf, he lives aro..."
            ]
          },
          "metadata": {
            "tags": []
          },
          "execution_count": 36
        }
      ]
    },
    {
      "cell_type": "code",
      "metadata": {
        "colab": {
          "base_uri": "https://localhost:8080/"
        },
        "id": "am2FyGTPi6ue",
        "outputId": "e064b4a5-363a-4411-af9c-376c35a82048"
      },
      "source": [
        "data.shape"
      ],
      "execution_count": null,
      "outputs": [
        {
          "output_type": "execute_result",
          "data": {
            "text/plain": [
              "(5572, 2)"
            ]
          },
          "metadata": {
            "tags": []
          },
          "execution_count": 8
        }
      ]
    },
    {
      "cell_type": "code",
      "metadata": {
        "colab": {
          "base_uri": "https://localhost:8080/"
        },
        "id": "1ByjnuwNiZlT",
        "outputId": "1876a357-28c2-471c-8f1a-9e6a6cc60a85"
      },
      "source": [
        "data.Label.value_counts(normalize=True)"
      ],
      "execution_count": null,
      "outputs": [
        {
          "output_type": "execute_result",
          "data": {
            "text/plain": [
              "ham     0.865937\n",
              "spam    0.134063\n",
              "Name: Label, dtype: float64"
            ]
          },
          "metadata": {
            "tags": []
          },
          "execution_count": 9
        }
      ]
    },
    {
      "cell_type": "code",
      "metadata": {
        "colab": {
          "base_uri": "https://localhost:8080/"
        },
        "id": "30EVHk1Cy2rE",
        "outputId": "16739488-7a82-4f68-bca2-d6069ddf8b5e"
      },
      "source": [
        "data['SMS']"
      ],
      "execution_count": 37,
      "outputs": [
        {
          "output_type": "execute_result",
          "data": {
            "text/plain": [
              "0       Go until jurong point, crazy.. Available only ...\n",
              "1                           Ok lar... Joking wif u oni...\n",
              "2       Free entry in 2 a wkly comp to win FA Cup fina...\n",
              "3       U dun say so early hor... U c already then say...\n",
              "4       Nah I don't think he goes to usf, he lives aro...\n",
              "                              ...                        \n",
              "5567    This is the 2nd time we have tried 2 contact u...\n",
              "5568                 Will ü b going to esplanade fr home?\n",
              "5569    Pity, * was in mood for that. So...any other s...\n",
              "5570    The guy did some bitching but I acted like i'd...\n",
              "5571                           Rofl. Its true to its name\n",
              "Name: SMS, Length: 5572, dtype: object"
            ]
          },
          "metadata": {
            "tags": []
          },
          "execution_count": 37
        }
      ]
    },
    {
      "cell_type": "code",
      "metadata": {
        "id": "K74jCS0SqW3-"
      },
      "source": [
        "x = data['SMS']\n",
        "y = data['Label']"
      ],
      "execution_count": 38,
      "outputs": []
    },
    {
      "cell_type": "code",
      "metadata": {
        "colab": {
          "base_uri": "https://localhost:8080/"
        },
        "id": "GkoLwzH0wGt4",
        "outputId": "48e74930-a213-4fe7-9970-f31117f87692"
      },
      "source": [
        "x.head()"
      ],
      "execution_count": 20,
      "outputs": [
        {
          "output_type": "execute_result",
          "data": {
            "text/plain": [
              "0    go until jurong point  crazy   available only ...\n",
              "1                        ok lar    joking wif u oni   \n",
              "2    free entry in 2 a wkly comp to win fa cup fina...\n",
              "3    u dun say so early hor    u c already then say   \n",
              "4    nah i don t think he goes to usf  he lives aro...\n",
              "Name: SMS, dtype: object"
            ]
          },
          "metadata": {
            "tags": []
          },
          "execution_count": 20
        }
      ]
    },
    {
      "cell_type": "code",
      "metadata": {
        "id": "caRi_W_mkOIK",
        "colab": {
          "base_uri": "https://localhost:8080/"
        },
        "outputId": "318d7370-ca3a-4757-9231-a10e89998273"
      },
      "source": [
        "\n",
        "#splitting the data set into train test split\n",
        "\n",
        "from sklearn.model_selection import train_test_split\n",
        "\n",
        "x_train,x_test,y_train,y_test = train_test_split(x,y,test_size=0.3,random_state=1)\n",
        "\n",
        "x_train.shape,x_test.shape,y_train.shape"
      ],
      "execution_count": 42,
      "outputs": [
        {
          "output_type": "execute_result",
          "data": {
            "text/plain": [
              "((3900,), (1672,), (3900,))"
            ]
          },
          "metadata": {
            "tags": []
          },
          "execution_count": 42
        }
      ]
    },
    {
      "cell_type": "code",
      "metadata": {
        "colab": {
          "base_uri": "https://localhost:8080/",
          "height": 52
        },
        "id": "DxSzI0jGvQYH",
        "outputId": "cf0272a2-b5e5-4cce-8542-00b145fa7164"
      },
      "source": [
        "x_train[4060]"
      ],
      "execution_count": 43,
      "outputs": [
        {
          "output_type": "execute_result",
          "data": {
            "application/vnd.google.colaboratory.intrinsic+json": {
              "type": "string"
            },
            "text/plain": [
              "'Moby Pub Quiz.Win a £100 High Street prize if u know who the new Duchess of Cornwall will be? Txt her first name to 82277.unsub STOP £1.50 008704050406 SP'"
            ]
          },
          "metadata": {
            "tags": []
          },
          "execution_count": 43
        }
      ]
    },
    {
      "cell_type": "code",
      "metadata": {
        "colab": {
          "base_uri": "https://localhost:8080/"
        },
        "id": "VpGvA6snpeGf",
        "outputId": "3682e232-5df4-49c7-8f3d-0b23757acad0"
      },
      "source": [
        "#cleaning the dataset and converting into tf-idf format\n",
        "\n",
        "from sklearn.feature_extraction.text import TfidfVectorizer\n",
        "\n",
        "tf= TfidfVectorizer(lowercase=True,ngram_range=(1,2),\n",
        "                    stop_words = 'english',max_df = 0.5,min_df =2,use_idf =True)\n",
        "\n",
        "tf_matrix_train = tf.fit_transform(x_train)\n",
        "tf_matrix_train = tf_matrix_train.toarray()\n",
        "\n",
        "vocab = tf.get_feature_names()\n",
        "vocab[1:10]"
      ],
      "execution_count": 46,
      "outputs": [
        {
          "output_type": "execute_result",
          "data": {
            "text/plain": [
              "['00 sub',\n",
              " '000',\n",
              " '000 bonus',\n",
              " '000 cash',\n",
              " '000 homeowners',\n",
              " '000 prize',\n",
              " '000 xmas',\n",
              " '008704050406',\n",
              " '008704050406 sp']"
            ]
          },
          "metadata": {
            "tags": []
          },
          "execution_count": 46
        }
      ]
    },
    {
      "cell_type": "code",
      "metadata": {
        "id": "qEP8wiaprVJL"
      },
      "source": [
        "tf_matrix_test = tf.transform(x_test)"
      ],
      "execution_count": 47,
      "outputs": []
    },
    {
      "cell_type": "code",
      "metadata": {
        "id": "doTjj3Ne0-QC"
      },
      "source": [
        "#import the model\n",
        "\n",
        "from sklearn.naive_bayes import MultinomialNB\n",
        "nb = MultinomialNB()"
      ],
      "execution_count": 48,
      "outputs": []
    },
    {
      "cell_type": "code",
      "metadata": {
        "id": "cTWENf6M1MS7"
      },
      "source": [
        "#training\n",
        "nb.fit(tf_matrix_train,y_train)\n",
        "#prediction\n",
        "pred = nb.predict(tf_matrix_test)"
      ],
      "execution_count": 49,
      "outputs": []
    },
    {
      "cell_type": "code",
      "metadata": {
        "colab": {
          "base_uri": "https://localhost:8080/"
        },
        "id": "Cwjk7IwZ1eL9",
        "outputId": "ea35a941-5074-4397-b9d1-35374c17825f"
      },
      "source": [
        "pred"
      ],
      "execution_count": 50,
      "outputs": [
        {
          "output_type": "execute_result",
          "data": {
            "text/plain": [
              "array(['ham', 'ham', 'ham', ..., 'ham', 'ham', 'ham'], dtype='<U4')"
            ]
          },
          "metadata": {
            "tags": []
          },
          "execution_count": 50
        }
      ]
    },
    {
      "cell_type": "code",
      "metadata": {
        "colab": {
          "base_uri": "https://localhost:8080/"
        },
        "id": "PNaTZM_m1hti",
        "outputId": "40e6125f-c13f-47bc-bb1b-fc74fca38fb8"
      },
      "source": [
        "# confusion matrics\n",
        "\n",
        "from sklearn.metrics import confusion_matrix,accuracy_score\n",
        "\n",
        "confusion_matrix(y_test,pred)\n"
      ],
      "execution_count": 52,
      "outputs": [
        {
          "output_type": "execute_result",
          "data": {
            "text/plain": [
              "array([[1442,    0],\n",
              "       [  52,  178]])"
            ]
          },
          "metadata": {
            "tags": []
          },
          "execution_count": 52
        }
      ]
    },
    {
      "cell_type": "code",
      "metadata": {
        "colab": {
          "base_uri": "https://localhost:8080/"
        },
        "id": "Vl7uOCiw1yGK",
        "outputId": "d72163a9-f1b3-47b5-e7ea-aebd0c2b9e4c"
      },
      "source": [
        "x_test[(pred=='ham') & (y_test=='spam')]"
      ],
      "execution_count": 58,
      "outputs": [
        {
          "output_type": "execute_result",
          "data": {
            "text/plain": [
              "147     FreeMsg Why haven't you replied to my text? I'...\n",
              "1064    We have new local dates in your area - Lots of...\n",
              "2680    New Tones This week include: 1)McFly-All Ab..,...\n",
              "1217    You have 1 new voicemail. Please call 08719181...\n",
              "5566    REMINDER FROM O2: To get 2.50 pounds free call...\n",
              "881     Reminder: You have not downloaded the content ...\n",
              "3132    LookAtMe!: Thanks for your purchase of a video...\n",
              "2295     You have 1 new message. Please call 08718738034.\n",
              "420     Send a logo 2 ur lover - 2 names joined by a h...\n",
              "5110      You have 1 new message. Please call 08715205273\n",
              "1045    We know someone who you know that fancies you....\n",
              "2583    3 FREE TAROT TEXTS! Find out about your love l...\n",
              "943     How about getting in touch with folks waiting ...\n",
              "5       FreeMsg Hey there darling it's been 3 week's n...\n",
              "3856    Free msg: Single? Find a partner in your area!...\n",
              "3530    Xmas & New Years Eve tickets are now on sale f...\n",
              "684     Hi I'm sue. I am 20 years old and work as a la...\n",
              "4073    Loans for any purpose even if you have Bad Cre...\n",
              "1875    Would you like to see my XXX pics they are so ...\n",
              "2313    tddnewsletter@emc1.co.uk (More games from TheD...\n",
              "1328    Ur balance is now £500. Ur next question is: W...\n",
              "3755    Bloomberg -Message center +447797706009 Why wa...\n",
              "3153    Hard LIVE 121 chat just 60p/min. Choose your g...\n",
              "1893    CALL 09090900040 & LISTEN TO EXTREME DIRTY LIV...\n",
              "4298    thesmszone.com lets you send free anonymous an...\n",
              "4949    Hi this is Amy, we will be sending you a free ...\n",
              "1172    Got what it takes 2 take part in the WRC Rally...\n",
              "761     Romantic Paris. 2 nights, 2 flights from £79 B...\n",
              "3991    (Bank of Granite issues Strong-Buy) EXPLOSIVE ...\n",
              "159     Customer service annoncement. You have a New Y...\n",
              "165     BangBabes Ur order is on the way. U SHOULD rec...\n",
              "2941     You have 1 new message. Please call 08712400200.\n",
              "19      England v Macedonia - dont miss the goals/team...\n",
              "1625    500 free text msgs. Just text ok to 80488 and ...\n",
              "3564    Auction round 4. The highest bid is now £54. N...\n",
              "2821    INTERFLORA - It's not too late to order Inter...\n",
              "1126    For taking part in our mobile survey yesterday...\n",
              "5037    You won't believe it but it's true. It's Incre...\n",
              "2247    Hi ya babe x u 4goten bout me?' scammers getti...\n",
              "4514    Money i have won wining number 946 wot do i do...\n",
              "1961    Guess what! Somebody you know secretly fancies...\n",
              "1714    Hard LIVE 121 chat just 60p/min. Choose your g...\n",
              "3463    Bloomberg -Message center +447797706009 Why wa...\n",
              "3419    LIFE has never been this much fun and great un...\n",
              "5370    dating:i have had two of these. Only started a...\n",
              "3496    Wan2 win a Meet+Greet with Westlife 4 U or a m...\n",
              "607     XCLUSIVE@CLUBSAISAI 2MOROW 28/5 SOIREE SPECIAL...\n",
              "3272    You have 1 new voicemail. Please call 08719181...\n",
              "3501    Dorothy@kiefer.com (Bank of Granite issues Str...\n",
              "5537    Want explicit SEX in 30 secs? Ring 02073162414...\n",
              "955             Filthy stories and GIRLS waiting for your\n",
              "5540    ASKED 3MOBILE IF 0870 CHATLINES INCLU IN FREE ...\n",
              "Name: SMS, dtype: object"
            ]
          },
          "metadata": {
            "tags": []
          },
          "execution_count": 58
        }
      ]
    },
    {
      "cell_type": "code",
      "metadata": {
        "id": "XqVcDtEN2R4M"
      },
      "source": [
        ""
      ],
      "execution_count": null,
      "outputs": []
    }
  ]
}