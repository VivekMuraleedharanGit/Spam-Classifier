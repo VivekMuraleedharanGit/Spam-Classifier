{
  "nbformat": 4,
  "nbformat_minor": 0,
  "metadata": {
    "colab": {
      "name": "spam message classification.ipynb",
      "provenance": [],
      "mount_file_id": "1z3RAQoUO_kAYss0VzVE8CgryGxhHThpJ",
      "authorship_tag": "ABX9TyPptYJFCWn4Ep2KcA+eEu41",
      "include_colab_link": true
    },
    "kernelspec": {
      "name": "python3",
      "display_name": "Python 3"
    },
    "language_info": {
      "name": "python"
    }
  },
  "cells": [
    {
      "cell_type": "markdown",
      "metadata": {
        "id": "view-in-github",
        "colab_type": "text"
      },
      "source": [
        "<a href=\"https://colab.research.google.com/github/VivekMuraleedharanGit/Spam-Classifier/blob/main/spam_message_classification.ipynb\" target=\"_parent\"><img src=\"https://colab.research.google.com/assets/colab-badge.svg\" alt=\"Open In Colab\"/></a>"
      ]
    },
    {
      "cell_type": "code",
      "metadata": {
        "id": "J2LzCFNNhn74"
      },
      "source": [
        "import pandas as pd\n",
        "import numpy as np\n"
      ],
      "execution_count": 4,
      "outputs": []
    },
    {
      "cell_type": "code",
      "metadata": {
        "colab": {
          "base_uri": "https://localhost:8080/",
          "height": 204
        },
        "id": "W84imm7rh176",
        "outputId": "18435ab6-665c-4406-ab92-30c6c94c9484"
      },
      "source": [
        "data= pd.read_csv('/content/drive/MyDrive/Data Science /Data Science notebooks/SMSSpamCollection',sep='\\t',header=None,names=['Label','SMS'])\n",
        "data.head()"
      ],
      "execution_count": 31,
      "outputs": [
        {
          "output_type": "execute_result",
          "data": {
            "text/html": [
              "<div>\n",
              "<style scoped>\n",
              "    .dataframe tbody tr th:only-of-type {\n",
              "        vertical-align: middle;\n",
              "    }\n",
              "\n",
              "    .dataframe tbody tr th {\n",
              "        vertical-align: top;\n",
              "    }\n",
              "\n",
              "    .dataframe thead th {\n",
              "        text-align: right;\n",
              "    }\n",
              "</style>\n",
              "<table border=\"1\" class=\"dataframe\">\n",
              "  <thead>\n",
              "    <tr style=\"text-align: right;\">\n",
              "      <th></th>\n",
              "      <th>Label</th>\n",
              "      <th>SMS</th>\n",
              "    </tr>\n",
              "  </thead>\n",
              "  <tbody>\n",
              "    <tr>\n",
              "      <th>0</th>\n",
              "      <td>ham</td>\n",
              "      <td>Go until jurong point, crazy.. Available only ...</td>\n",
              "    </tr>\n",
              "    <tr>\n",
              "      <th>1</th>\n",
              "      <td>ham</td>\n",
              "      <td>Ok lar... Joking wif u oni...</td>\n",
              "    </tr>\n",
              "    <tr>\n",
              "      <th>2</th>\n",
              "      <td>spam</td>\n",
              "      <td>Free entry in 2 a wkly comp to win FA Cup fina...</td>\n",
              "    </tr>\n",
              "    <tr>\n",
              "      <th>3</th>\n",
              "      <td>ham</td>\n",
              "      <td>U dun say so early hor... U c already then say...</td>\n",
              "    </tr>\n",
              "    <tr>\n",
              "      <th>4</th>\n",
              "      <td>ham</td>\n",
              "      <td>Nah I don't think he goes to usf, he lives aro...</td>\n",
              "    </tr>\n",
              "  </tbody>\n",
              "</table>\n",
              "</div>"
            ],
            "text/plain": [
              "  Label                                                SMS\n",
              "0   ham  Go until jurong point, crazy.. Available only ...\n",
              "1   ham                      Ok lar... Joking wif u oni...\n",
              "2  spam  Free entry in 2 a wkly comp to win FA Cup fina...\n",
              "3   ham  U dun say so early hor... U c already then say...\n",
              "4   ham  Nah I don't think he goes to usf, he lives aro..."
            ]
          },
          "metadata": {
            "tags": []
          },
          "execution_count": 31
        }
      ]
    },
    {
      "cell_type": "code",
      "metadata": {
        "colab": {
          "base_uri": "https://localhost:8080/"
        },
        "id": "am2FyGTPi6ue",
        "outputId": "e064b4a5-363a-4411-af9c-376c35a82048"
      },
      "source": [
        "data.shape"
      ],
      "execution_count": null,
      "outputs": [
        {
          "output_type": "execute_result",
          "data": {
            "text/plain": [
              "(5572, 2)"
            ]
          },
          "metadata": {
            "tags": []
          },
          "execution_count": 8
        }
      ]
    },
    {
      "cell_type": "code",
      "metadata": {
        "colab": {
          "base_uri": "https://localhost:8080/"
        },
        "id": "1ByjnuwNiZlT",
        "outputId": "1876a357-28c2-471c-8f1a-9e6a6cc60a85"
      },
      "source": [
        "data.Label.value_counts(normalize=True)"
      ],
      "execution_count": null,
      "outputs": [
        {
          "output_type": "execute_result",
          "data": {
            "text/plain": [
              "ham     0.865937\n",
              "spam    0.134063\n",
              "Name: Label, dtype: float64"
            ]
          },
          "metadata": {
            "tags": []
          },
          "execution_count": 9
        }
      ]
    },
    {
      "cell_type": "code",
      "metadata": {
        "colab": {
          "base_uri": "https://localhost:8080/"
        },
        "id": "30EVHk1Cy2rE",
        "outputId": "16739488-7a82-4f68-bca2-d6069ddf8b5e"
      },
      "source": [
        "data['SMS']"
      ],
      "execution_count": null,
      "outputs": [
        {
          "output_type": "execute_result",
          "data": {
            "text/plain": [
              "0       Go until jurong point, crazy.. Available only ...\n",
              "1                           Ok lar... Joking wif u oni...\n",
              "2       Free entry in 2 a wkly comp to win FA Cup fina...\n",
              "3       U dun say so early hor... U c already then say...\n",
              "4       Nah I don't think he goes to usf, he lives aro...\n",
              "                              ...                        \n",
              "5567    This is the 2nd time we have tried 2 contact u...\n",
              "5568                 Will ü b going to esplanade fr home?\n",
              "5569    Pity, * was in mood for that. So...any other s...\n",
              "5570    The guy did some bitching but I acted like i'd...\n",
              "5571                           Rofl. Its true to its name\n",
              "Name: SMS, Length: 5572, dtype: object"
            ]
          },
          "metadata": {
            "tags": []
          },
          "execution_count": 37
        }
      ]
    },
    {
      "cell_type": "code",
      "metadata": {
        "id": "S5AzuUtuYnau"
      },
      "source": [
        "data['Label']= data['Label'].map({'ham':0,'spam':1})"
      ],
      "execution_count": 32,
      "outputs": []
    },
    {
      "cell_type": "code",
      "metadata": {
        "colab": {
          "base_uri": "https://localhost:8080/"
        },
        "id": "GzneWcUmZKpm",
        "outputId": "71a443ee-a3a4-4714-95fc-12ec30f15b31"
      },
      "source": [
        "data['Label']"
      ],
      "execution_count": 33,
      "outputs": [
        {
          "output_type": "execute_result",
          "data": {
            "text/plain": [
              "0       0\n",
              "1       0\n",
              "2       1\n",
              "3       0\n",
              "4       0\n",
              "       ..\n",
              "5567    1\n",
              "5568    0\n",
              "5569    0\n",
              "5570    0\n",
              "5571    0\n",
              "Name: Label, Length: 5572, dtype: int64"
            ]
          },
          "metadata": {
            "tags": []
          },
          "execution_count": 33
        }
      ]
    },
    {
      "cell_type": "code",
      "metadata": {
        "colab": {
          "base_uri": "https://localhost:8080/",
          "height": 204
        },
        "id": "SxioBH1NY0ol",
        "outputId": "d98088a7-a789-426f-e18d-7a74afe37fa6"
      },
      "source": [
        "data.head()"
      ],
      "execution_count": 20,
      "outputs": [
        {
          "output_type": "execute_result",
          "data": {
            "text/html": [
              "<div>\n",
              "<style scoped>\n",
              "    .dataframe tbody tr th:only-of-type {\n",
              "        vertical-align: middle;\n",
              "    }\n",
              "\n",
              "    .dataframe tbody tr th {\n",
              "        vertical-align: top;\n",
              "    }\n",
              "\n",
              "    .dataframe thead th {\n",
              "        text-align: right;\n",
              "    }\n",
              "</style>\n",
              "<table border=\"1\" class=\"dataframe\">\n",
              "  <thead>\n",
              "    <tr style=\"text-align: right;\">\n",
              "      <th></th>\n",
              "      <th>Label</th>\n",
              "      <th>SMS</th>\n",
              "    </tr>\n",
              "  </thead>\n",
              "  <tbody>\n",
              "    <tr>\n",
              "      <th>0</th>\n",
              "      <td>0</td>\n",
              "      <td>Go until jurong point crazy Available only in ...</td>\n",
              "    </tr>\n",
              "    <tr>\n",
              "      <th>1</th>\n",
              "      <td>0</td>\n",
              "      <td>Ok lar Joking wif u oni</td>\n",
              "    </tr>\n",
              "    <tr>\n",
              "      <th>2</th>\n",
              "      <td>1</td>\n",
              "      <td>Free entry in  a wkly comp to win FA Cup final...</td>\n",
              "    </tr>\n",
              "    <tr>\n",
              "      <th>3</th>\n",
              "      <td>0</td>\n",
              "      <td>U dun say so early hor U c already then say</td>\n",
              "    </tr>\n",
              "    <tr>\n",
              "      <th>4</th>\n",
              "      <td>0</td>\n",
              "      <td>Nah I dont think he goes to usf he lives aroun...</td>\n",
              "    </tr>\n",
              "  </tbody>\n",
              "</table>\n",
              "</div>"
            ],
            "text/plain": [
              "   Label                                                SMS\n",
              "0      0  Go until jurong point crazy Available only in ...\n",
              "1      0                            Ok lar Joking wif u oni\n",
              "2      1  Free entry in  a wkly comp to win FA Cup final...\n",
              "3      0        U dun say so early hor U c already then say\n",
              "4      0  Nah I dont think he goes to usf he lives aroun..."
            ]
          },
          "metadata": {
            "tags": []
          },
          "execution_count": 20
        }
      ]
    },
    {
      "cell_type": "code",
      "metadata": {
        "id": "dqCEkzSqXDwD"
      },
      "source": [
        "import re\n",
        "def cleaned(doc):\n",
        "  doc = doc = re.sub(r'[^a-zA-Z\\s]', '', doc, re.I|re.A)\n",
        "  return doc"
      ],
      "execution_count": 34,
      "outputs": []
    },
    {
      "cell_type": "code",
      "metadata": {
        "id": "rHU_2hwdXnYC"
      },
      "source": [
        "data['SMS']= data['SMS'].apply(cleaned)"
      ],
      "execution_count": 35,
      "outputs": []
    },
    {
      "cell_type": "code",
      "metadata": {
        "id": "K74jCS0SqW3-"
      },
      "source": [
        "x = data['SMS']\n",
        "y = data['Label']"
      ],
      "execution_count": 36,
      "outputs": []
    },
    {
      "cell_type": "code",
      "metadata": {
        "colab": {
          "base_uri": "https://localhost:8080/"
        },
        "id": "G8aT85EcZEMv",
        "outputId": "7f04e3b5-85cb-4e45-cbac-745f5793ebc2"
      },
      "source": [
        "y"
      ],
      "execution_count": 37,
      "outputs": [
        {
          "output_type": "execute_result",
          "data": {
            "text/plain": [
              "0       0\n",
              "1       0\n",
              "2       1\n",
              "3       0\n",
              "4       0\n",
              "       ..\n",
              "5567    1\n",
              "5568    0\n",
              "5569    0\n",
              "5570    0\n",
              "5571    0\n",
              "Name: Label, Length: 5572, dtype: int64"
            ]
          },
          "metadata": {
            "tags": []
          },
          "execution_count": 37
        }
      ]
    },
    {
      "cell_type": "code",
      "metadata": {
        "colab": {
          "base_uri": "https://localhost:8080/"
        },
        "id": "GkoLwzH0wGt4",
        "outputId": "6bad2359-a25b-4313-c73f-7832c50543a7"
      },
      "source": [
        "x.head()"
      ],
      "execution_count": 12,
      "outputs": [
        {
          "output_type": "execute_result",
          "data": {
            "text/plain": [
              "0    Go until jurong point crazy Available only in ...\n",
              "1                              Ok lar Joking wif u oni\n",
              "2    Free entry in  a wkly comp to win FA Cup final...\n",
              "3          U dun say so early hor U c already then say\n",
              "4    Nah I dont think he goes to usf he lives aroun...\n",
              "Name: SMS, dtype: object"
            ]
          },
          "metadata": {
            "tags": []
          },
          "execution_count": 12
        }
      ]
    },
    {
      "cell_type": "code",
      "metadata": {
        "id": "caRi_W_mkOIK",
        "colab": {
          "base_uri": "https://localhost:8080/"
        },
        "outputId": "39512bf9-2be2-4c3e-c147-ce204437b97a"
      },
      "source": [
        "\n",
        "#splitting the data set into train test split\n",
        "\n",
        "from sklearn.model_selection import train_test_split\n",
        "\n",
        "x_train,x_test,y_train,y_test = train_test_split(x,y,test_size=0.3,random_state=1)\n",
        "\n",
        "x_train.shape,x_test.shape,y_train.shape"
      ],
      "execution_count": 38,
      "outputs": [
        {
          "output_type": "execute_result",
          "data": {
            "text/plain": [
              "((3900,), (1672,), (3900,))"
            ]
          },
          "metadata": {
            "tags": []
          },
          "execution_count": 38
        }
      ]
    },
    {
      "cell_type": "code",
      "metadata": {
        "colab": {
          "base_uri": "https://localhost:8080/",
          "height": 35
        },
        "id": "DxSzI0jGvQYH",
        "outputId": "36c83f4e-5955-46da-c8c4-e4a07ae7ebcf"
      },
      "source": [
        "x_train[4060]"
      ],
      "execution_count": 22,
      "outputs": [
        {
          "output_type": "execute_result",
          "data": {
            "application/vnd.google.colaboratory.intrinsic+json": {
              "type": "string"
            },
            "text/plain": [
              "'Moby Pub QuizWin a  High Street prize if u know who the new Duchess of Cornwall will be Txt her first name to unsub STOP   SP'"
            ]
          },
          "metadata": {
            "tags": []
          },
          "execution_count": 22
        }
      ]
    },
    {
      "cell_type": "code",
      "metadata": {
        "colab": {
          "base_uri": "https://localhost:8080/"
        },
        "id": "VpGvA6snpeGf",
        "outputId": "ac241240-6462-416c-93e2-3d7d3be1ecba"
      },
      "source": [
        "#cleaning the dataset and converting into tf-idf format\n",
        "\n",
        "from sklearn.feature_extraction.text import TfidfVectorizer\n",
        "\n",
        "tf= TfidfVectorizer(lowercase=True,ngram_range=(1,2),\n",
        "                    stop_words = 'english',max_df = 0.5,min_df =2,use_idf =True)\n",
        "\n",
        "tf_matrix_train = tf.fit_transform(x_train)\n",
        "tf_matrix_train = tf_matrix_train.toarray()\n",
        "\n",
        "vocab = tf.get_feature_names()\n",
        "vocab[1:10]"
      ],
      "execution_count": 39,
      "outputs": [
        {
          "output_type": "execute_result",
          "data": {
            "text/plain": [
              "['aathilove',\n",
              " 'aathilove lot',\n",
              " 'aathiwhere',\n",
              " 'aathiwhere dear',\n",
              " 'ability',\n",
              " 'abiola',\n",
              " 'able',\n",
              " 'able come',\n",
              " 'able pay']"
            ]
          },
          "metadata": {
            "tags": []
          },
          "execution_count": 39
        }
      ]
    },
    {
      "cell_type": "code",
      "metadata": {
        "colab": {
          "base_uri": "https://localhost:8080/"
        },
        "id": "h8vhUIv2ZvVe",
        "outputId": "1f434e99-a735-4075-9bb0-4611bf352ffa"
      },
      "source": [
        "tf_matrix_train"
      ],
      "execution_count": 48,
      "outputs": [
        {
          "output_type": "execute_result",
          "data": {
            "text/plain": [
              "array([[0., 0., 0., ..., 0., 0., 0.],\n",
              "       [0., 0., 0., ..., 0., 0., 0.],\n",
              "       [0., 0., 0., ..., 0., 0., 0.],\n",
              "       ...,\n",
              "       [0., 0., 0., ..., 0., 0., 0.],\n",
              "       [0., 0., 0., ..., 0., 0., 0.],\n",
              "       [0., 0., 0., ..., 0., 0., 0.]])"
            ]
          },
          "metadata": {
            "tags": []
          },
          "execution_count": 48
        }
      ]
    },
    {
      "cell_type": "code",
      "metadata": {
        "id": "qEP8wiaprVJL"
      },
      "source": [
        "tf_matrix_test = tf.transform(x_test)"
      ],
      "execution_count": 40,
      "outputs": []
    },
    {
      "cell_type": "code",
      "metadata": {
        "id": "doTjj3Ne0-QC"
      },
      "source": [
        "#import the model\n",
        "\n",
        "from sklearn.naive_bayes import MultinomialNB\n",
        "nb = MultinomialNB()"
      ],
      "execution_count": 41,
      "outputs": []
    },
    {
      "cell_type": "code",
      "metadata": {
        "id": "cTWENf6M1MS7"
      },
      "source": [
        "#training\n",
        "nb.fit(tf_matrix_train,y_train)\n",
        "#prediction\n",
        "pred = nb.predict(tf_matrix_test)"
      ],
      "execution_count": 42,
      "outputs": []
    },
    {
      "cell_type": "code",
      "metadata": {
        "colab": {
          "base_uri": "https://localhost:8080/"
        },
        "id": "Cwjk7IwZ1eL9",
        "outputId": "96958dd4-154b-4633-ed82-47c6e7179d9d"
      },
      "source": [
        "pred"
      ],
      "execution_count": 43,
      "outputs": [
        {
          "output_type": "execute_result",
          "data": {
            "text/plain": [
              "array([0, 0, 0, ..., 0, 0, 0])"
            ]
          },
          "metadata": {
            "tags": []
          },
          "execution_count": 43
        }
      ]
    },
    {
      "cell_type": "code",
      "metadata": {
        "colab": {
          "base_uri": "https://localhost:8080/"
        },
        "id": "PNaTZM_m1hti",
        "outputId": "0f4bcfaf-fff3-491d-9b27-036a4e3ead75"
      },
      "source": [
        "# confusion matrics\n",
        "\n",
        "from sklearn.metrics import confusion_matrix,accuracy_score\n",
        "\n",
        "confusion_matrix(y_test,pred)\n"
      ],
      "execution_count": 44,
      "outputs": [
        {
          "output_type": "execute_result",
          "data": {
            "text/plain": [
              "array([[1442,    0],\n",
              "       [  58,  172]])"
            ]
          },
          "metadata": {
            "tags": []
          },
          "execution_count": 44
        }
      ]
    },
    {
      "cell_type": "code",
      "metadata": {
        "colab": {
          "base_uri": "https://localhost:8080/"
        },
        "id": "Vl7uOCiw1yGK",
        "outputId": "68337636-a202-4142-aa5d-146a62a908a6"
      },
      "source": [
        "x_test[(pred==0) & (y_test==1)]"
      ],
      "execution_count": 46,
      "outputs": [
        {
          "output_type": "execute_result",
          "data": {
            "text/plain": [
              "147     FreeMsg Why havent you replied to my text Im R...\n",
              "1064    We have new local dates in your area  Lots of ...\n",
              "1777                                Call FREEPHONE    now\n",
              "2680    New Tones This week include McFlyAll Ab  Sara ...\n",
              "1217                 You have  new voicemail Please call \n",
              "5566    REMINDER FROM O To get  pounds free call credi...\n",
              "881     Reminder You have not downloaded the content y...\n",
              "4376    Ur TONEXS subscription has been renewed and yo...\n",
              "3132    LookAtMe Thanks for your purchase of a video c...\n",
              "2295                   You have  new message Please call \n",
              "420     Send a logo  ur lover   names joined by a hear...\n",
              "5110                   You have  new message Please call \n",
              "1045    We know someone who you know that fancies you ...\n",
              "3443    Save money on wedding lingerie at wwwbridalpet...\n",
              "2583     FREE TAROT TEXTS Find out about your love lif...\n",
              "943     How about getting in touch with folks waiting ...\n",
              "5       FreeMsg Hey there darling its been  weeks now ...\n",
              "3856    Free msg Single Find a partner in your area s ...\n",
              "3530    Xmas  New Years Eve tickets are now on sale fr...\n",
              "684     Hi Im sue I am  years old and work as a lapdan...\n",
              "4073    Loans for any purpose even if you have Bad Cre...\n",
              "1875    Would you like to see my XXX pics they are so ...\n",
              "2313    tddnewsletteremccouk More games from TheDailyD...\n",
              "1328    Ur balance is now  Ur next question is Who san...\n",
              "3755    Bloomberg Message center  Why wait Apply for y...\n",
              "3153    Hard LIVE  chat just pmin Choose your girl and...\n",
              "1893    CALL   LISTEN TO EXTREME DIRTY LIVE CHAT GOING...\n",
              "4298    thesmszonecom lets you send free anonymous and...\n",
              "4949    Hi this is Amy we will be sending you a free p...\n",
              "1172    Got what it takes  take part in the WRC Rally ...\n",
              "761     Romantic Paris  nights  flights from  Book now...\n",
              "3991    Bank of Granite issues StrongBuy EXPLOSIVE PIC...\n",
              "165     BangBabes Ur order is on the way U SHOULD rece...\n",
              "2941                   You have  new message Please call \n",
              "19      England v Macedonia  dont miss the goalsteam n...\n",
              "2742    I dont know u and u dont know me Send CHAT to ...\n",
              "1625     free text msgs Just text ok to  and well cred...\n",
              "3564    Auction round  The highest bid is now  Next ma...\n",
              "2821    INTERFLORA  Its not too late to order Interflo...\n",
              "1126    For taking part in our mobile survey yesterday...\n",
              "5037    You wont believe it but its true Its Incredibl...\n",
              "191     Are you unique enough Find out from th August ...\n",
              "2247    Hi ya babe x u goten bout me scammers getting ...\n",
              "4514     Money i have won wining number  wot do i do next\n",
              "1961    Guess what Somebody you know secretly fancies ...\n",
              "1714    Hard LIVE  chat just pmin Choose your girl and...\n",
              "2378    YES The only place in town to meet exciting ad...\n",
              "3463    Bloomberg Message center  Why wait Apply for y...\n",
              "3419    LIFE has never been this much fun and great un...\n",
              "5370    datingi have had two of these Only started aft...\n",
              "3496    Wan win a MeetGreet with Westlife  U or a m Th...\n",
              "607     XCLUSIVECLUBSAISAI MOROW  SOIREE SPECIALE ZOUK...\n",
              "3272                 You have  new voicemail Please call \n",
              "518     Your credits have been topped up for httpwwwbu...\n",
              "3501    Dorothykiefercom Bank of Granite issues Strong...\n",
              "4760    Thanks  your continued support Your question t...\n",
              "955             Filthy stories and GIRLS waiting for your\n",
              "5540    ASKED MOBILE IF  CHATLINES INCLU IN FREE MINS ...\n",
              "Name: SMS, dtype: object"
            ]
          },
          "metadata": {
            "tags": []
          },
          "execution_count": 46
        }
      ]
    },
    {
      "cell_type": "code",
      "metadata": {
        "id": "XqVcDtEN2R4M"
      },
      "source": [
        ""
      ],
      "execution_count": null,
      "outputs": []
    }
  ]
}